{
 "cells": [
  {
   "cell_type": "code",
   "execution_count": 17,
   "id": "97ea6428",
   "metadata": {},
   "outputs": [],
   "source": [
    "import math"
   ]
  },
  {
   "cell_type": "code",
   "execution_count": 111,
   "id": "3777d681",
   "metadata": {},
   "outputs": [
    {
     "data": {
      "text/plain": [
       "list"
      ]
     },
     "execution_count": 111,
     "metadata": {},
     "output_type": "execute_result"
    }
   ],
   "source": [
    "n=20\n",
    "s = []\n",
    "for i in range(2,n+1):\n",
    "    s.append(i)\n",
    "type(s)\n",
    "\n"
   ]
  },
  {
   "cell_type": "code",
   "execution_count": 112,
   "id": "23416559",
   "metadata": {},
   "outputs": [
    {
     "name": "stdout",
     "output_type": "stream",
     "text": [
      "2\n"
     ]
    },
    {
     "data": {
      "text/plain": [
       "5"
      ]
     },
     "execution_count": 112,
     "metadata": {},
     "output_type": "execute_result"
    }
   ],
   "source": [
    "prime = True\n",
    "for i in range(2,3):\n",
    "    prime = False\n",
    "    print(i)\n",
    "prime\n",
    "math.ceil(math.sqrt(n))"
   ]
  },
  {
   "cell_type": "code",
   "execution_count": 113,
   "id": "ac6a8827",
   "metadata": {},
   "outputs": [
    {
     "name": "stdout",
     "output_type": "stream",
     "text": [
      "[2, 3, 5, 7, 11, 13, 17, 19]\n",
      "8\n"
     ]
    }
   ],
   "source": [
    "p=2\n",
    "#lim = math.ceil(math.sqrt(n))\n",
    "#print(lim)\n",
    "type(s)\n",
    "#print(s)\n",
    "while p <= n/2:\n",
    "    prime = True\n",
    "    for i in range(2,p):\n",
    "        if p%i == 0:\n",
    "            prime = False\n",
    "            break\n",
    "    if prime == True:        \n",
    "        for j in range(2, n):\n",
    "            if j*p <= n:\n",
    "                #print(j,p)\n",
    "                if j*p in s:\n",
    "                    s.remove(j*p)\n",
    "                \n",
    "        p = s[s.index(p) + 1]\n",
    "        #print(s)\n",
    "        #print(p)\n",
    "    else: \n",
    "        p = s[s.index(p) + 1]\n",
    "        #print(s)\n",
    "        #print(p)\n",
    "    \n",
    "print(s)\n",
    "print(len(s))"
   ]
  },
  {
   "cell_type": "code",
   "execution_count": 32,
   "id": "84518fe2",
   "metadata": {},
   "outputs": [
    {
     "data": {
      "text/plain": [
       "0    1\n",
       "2    3\n",
       "3    4\n",
       "4    5\n",
       "5    6\n",
       "6    7\n",
       "7    8\n",
       "8    9\n",
       "dtype: int64"
      ]
     },
     "execution_count": 32,
     "metadata": {},
     "output_type": "execute_result"
    }
   ],
   "source": [
    "s.drop(s.index[1])"
   ]
  },
  {
   "cell_type": "code",
   "execution_count": 104,
   "id": "459163f6",
   "metadata": {},
   "outputs": [],
   "source": [
    "def Sieve_of_Eratosthenes(n):\n",
    "    s = []\n",
    "    for i in range(2,n+1):\n",
    "        s.append(i)\n",
    "    p=2\n",
    "    type(s)\n",
    "    #print(s)\n",
    "    while p <= n/2:\n",
    "        prime = True\n",
    "        for i in range(2,p):\n",
    "            if p%i == 0:\n",
    "                prime = False\n",
    "                break\n",
    "        if prime == True:        \n",
    "            for j in range(2, n):\n",
    "                if j*p <= n:\n",
    "                    #print(j,p)\n",
    "                    if j*p in s:\n",
    "                        s.remove(j*p)\n",
    "\n",
    "            p = s[s.index(p) + 1]\n",
    "        else: \n",
    "            p = s[s.index(p) + 1] \n",
    "    print(s)\n",
    "    print(len(s))"
   ]
  },
  {
   "cell_type": "code",
   "execution_count": 114,
   "id": "b1729615",
   "metadata": {},
   "outputs": [
    {
     "name": "stdout",
     "output_type": "stream",
     "text": [
      "[2, 3, 5, 7, 11, 13, 17, 19]\n",
      "8\n"
     ]
    }
   ],
   "source": [
    "Sieve_of_Eratosthenes(20)"
   ]
  },
  {
   "cell_type": "code",
   "execution_count": 115,
   "id": "faf8db6c",
   "metadata": {},
   "outputs": [
    {
     "name": "stdout",
     "output_type": "stream",
     "text": [
      "[2, 3, 5, 7]\n",
      "4\n"
     ]
    }
   ],
   "source": [
    "Sieve_of_Eratosthenes(10)"
   ]
  },
  {
   "cell_type": "code",
   "execution_count": 116,
   "id": "40563948",
   "metadata": {},
   "outputs": [
    {
     "name": "stdout",
     "output_type": "stream",
     "text": [
      "[2, 3, 5, 7, 11, 13, 17, 19, 23, 29, 31, 37, 41, 43, 47, 53, 59, 61, 67, 71, 73, 79, 83, 89, 97]\n",
      "25\n"
     ]
    }
   ],
   "source": [
    "Sieve_of_Eratosthenes(100)"
   ]
  },
  {
   "cell_type": "code",
   "execution_count": 117,
   "id": "fa74be95",
   "metadata": {},
   "outputs": [
    {
     "name": "stdout",
     "output_type": "stream",
     "text": [
      "[2, 3, 5, 7, 11, 13, 17, 19, 23, 29, 31, 37, 41, 43, 47, 53, 59, 61, 67, 71, 73, 79, 83, 89, 97, 101, 103, 107, 109, 113, 127, 131, 137, 139, 149, 151, 157, 163, 167, 173, 179, 181, 191, 193, 197, 199]\n",
      "46\n"
     ]
    }
   ],
   "source": [
    "Sieve_of_Eratosthenes(200)"
   ]
  }
 ],
 "metadata": {
  "kernelspec": {
   "display_name": "Python 3 (ipykernel)",
   "language": "python",
   "name": "python3"
  },
  "language_info": {
   "codemirror_mode": {
    "name": "ipython",
    "version": 3
   },
   "file_extension": ".py",
   "mimetype": "text/x-python",
   "name": "python",
   "nbconvert_exporter": "python",
   "pygments_lexer": "ipython3",
   "version": "3.9.7"
  }
 },
 "nbformat": 4,
 "nbformat_minor": 5
}
